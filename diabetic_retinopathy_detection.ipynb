{
  "nbformat": 4,
  "nbformat_minor": 0,
  "metadata": {
    "kernelspec": {
      "display_name": "Python 3",
      "language": "python",
      "name": "python3"
    },
    "language_info": {
      "name": "python",
      "version": "3.6.4",
      "mimetype": "text/x-python",
      "codemirror_mode": {
        "name": "ipython",
        "version": 3
      },
      "pygments_lexer": "ipython3",
      "nbconvert_exporter": "python",
      "file_extension": ".py"
    },
    "colab": {
      "name": "diabetic-retinopathy-detection.ipynb",
      "provenance": []
    }
  },
  "cells": [
    {
      "cell_type": "code",
      "metadata": {
        "trusted": true,
        "id": "HNcA26t7lYKu"
      },
      "source": [
        "# imports\n",
        "import pandas as pd\n",
        "from keras.utils import np_utils\n",
        "from PIL import Image\n",
        "from keras.preprocessing import image\n",
        "import os\n",
        "import numpy as np\n",
        "from keras.preprocessing.image import ImageDataGenerator\n",
        "from sklearn.utils import shuffle\n",
        "from collections import Counter\n",
        "import matplotlib.pyplot as plt\n",
        "from sklearn.model_selection import train_test_split\n",
        "import keras\n",
        "from keras.models import Sequential\n",
        "from keras.layers import Dense, Dropout, Flatten, Conv2D, MaxPooling2D, BatchNormalization\n",
        "from keras.preprocessing.image import ImageDataGenerator, array_to_img, img_to_array, load_img\n",
        "import cv2"
      ],
      "execution_count": 1,
      "outputs": []
    },
    {
      "cell_type": "code",
      "metadata": {
        "trusted": true,
        "id": "-CSxpWAblYLA"
      },
      "source": [
        "# read train images\n",
        "trainLabels = pd.read_csv(\"../input/trainLabels.csv\")\n",
        "trainLabels.head()"
      ],
      "execution_count": 3,
      "outputs": []
    },
    {
      "cell_type": "markdown",
      "metadata": {
        "id": "-XNaaQGdlYLH"
      },
      "source": [
        "#### Class \n",
        "* 0 - No DR\n",
        "* 1 - Mild\n",
        "* 2 - Moderate\n",
        "* 3 - Severe\n",
        "* 4 - Proliferative DR"
      ]
    },
    {
      "cell_type": "code",
      "metadata": {
        "trusted": true,
        "id": "XDShweZIlYLK"
      },
      "source": [
        "\n",
        "#img_names = []\n",
        "img_labels = []\n",
        "def read_train_dataset():\n",
        "    img_matrix = []\n",
        "    imgs = os.listdir(\"../input\") \n",
        "    imgs.remove(\"trainLabels.csv\") \n",
        "    for item in imgs:\n",
        "        base = os.path.basename(\"../input/\" + item)\n",
        "        filename = os.path.splitext(base)[0]\n",
        "        img = load_img(\"../input/\" + item)\n",
        "        img_array = img_to_array(img)\n",
        "        img=img.resize((256,256))\n",
        "        #img_array = cv2.resize(img_array, (256, 256))\n",
        "        #img_array = np.array(img_array, dtype='float')/255.0\n",
        "        img_matrix.append(img_array)\n",
        "        img_labels.append(trainLabels.loc[trainLabels.image==filename, 'level'].values[0])\n",
        "    return np.asarray(img_matrix, dtype='float')"
      ],
      "execution_count": null,
      "outputs": []
    },
    {
      "cell_type": "code",
      "metadata": {
        "trusted": true,
        "id": "5mafAgUZlYLR"
      },
      "source": [
        "s = read_train_dataset()"
      ],
      "execution_count": null,
      "outputs": []
    },
    {
      "cell_type": "code",
      "metadata": {
        "trusted": true,
        "id": "D2qC-QeflYLW"
      },
      "source": [
        "s"
      ],
      "execution_count": null,
      "outputs": []
    },
    {
      "cell_type": "code",
      "metadata": {
        "trusted": true,
        "id": "xEanxd7dlYLe"
      },
      "source": [
        "x_train, x_test, y_train, y_test = train_test_split(s, img_labels, test_size=0.33, random_state=42)\n",
        "print('train IDs: ', len(x_train))\n",
        "print('test IDs: ', len(x_test))"
      ],
      "execution_count": null,
      "outputs": []
    },
    {
      "cell_type": "code",
      "metadata": {
        "trusted": true,
        "id": "jEjSGI9HlYLn"
      },
      "source": [
        "class_weights = {0:0.24, 1:1.21, 2:6.42, 3:3.05, 4:6.92}"
      ],
      "execution_count": null,
      "outputs": []
    },
    {
      "cell_type": "code",
      "metadata": {
        "trusted": true,
        "id": "odMGTHlYlYLw"
      },
      "source": [
        "x_train"
      ],
      "execution_count": null,
      "outputs": []
    },
    {
      "cell_type": "code",
      "metadata": {
        "trusted": true,
        "id": "YCW7meD2lYL4"
      },
      "source": [
        ""
      ],
      "execution_count": null,
      "outputs": []
    },
    {
      "cell_type": "code",
      "metadata": {
        "trusted": true,
        "id": "vO4KMjKTlYMA"
      },
      "source": [
        "for file in listing:\n",
        "    base = os.path.basename(\"../input/\" + file)\n",
        "    fileName = os.path.splitext(base)[0]\n",
        "    imlabel.append(trainLabels.loc[trainLabels.image==fileName, 'level'].values[0])\n",
        "    im = Image.open(\"../input/\" + file)\n",
        "    img = np.array(im.resize((img_rows,img_cols)))"
      ],
      "execution_count": null,
      "outputs": []
    },
    {
      "cell_type": "code",
      "metadata": {
        "trusted": true,
        "id": "gsaRx6b4lYME"
      },
      "source": [
        "labels = []\n",
        "data = []\n",
        "imgs = os.listdir(\"../input\") \n",
        "imgs.remove(\"trainLabels.csv\") \n",
        "for item in imgs:\n",
        "    base = os.path.basename(\"../input/\" + item)\n",
        "    filename = os.path.splitext(base)[0]\n",
        "    labels.append(trainLabels.loc[trainLabels.image==filename, 'level'].values[0])\n",
        "    data.append(filename)"
      ],
      "execution_count": null,
      "outputs": []
    },
    {
      "cell_type": "code",
      "metadata": {
        "trusted": true,
        "id": "cMprDNHFlYMI"
      },
      "source": [
        "train_datagen = ImageDataGenerator(rescale=1./255)\n",
        "test_datagen = ImageDataGenerator(rescale=1./255)\n",
        "\n",
        "train_generator = train_datagen.flow_from_directory(\n",
        "        '../input/',\n",
        "        target_size=(512, 512),\n",
        "        batch_size=32,\n",
        "        class_mode='categorical')\n",
        "\n",
        "test_generator = test_datagen.flow_from_directory(\n",
        "        '../input/',\n",
        "        target_size=(512, 512),\n",
        "        batch_size=32,\n",
        "        class_mode='categorical')"
      ],
      "execution_count": null,
      "outputs": []
    },
    {
      "cell_type": "code",
      "metadata": {
        "trusted": true,
        "id": "v7_tI4E8lYMQ"
      },
      "source": [
        "xtrain, xtest, ytrain, ytest = train_test_split(data, labels, test_size=0.33, random_state=42)\n",
        "print('train IDs: ', len(xtrain))\n",
        "print('test IDs: ', len(xtest))"
      ],
      "execution_count": null,
      "outputs": []
    },
    {
      "cell_type": "code",
      "metadata": {
        "trusted": true,
        "id": "0Tvb5SojlYMU"
      },
      "source": [
        "\n",
        "from skimage.io import imread\n",
        "from skimage.transform import resize\n",
        "import numpy as np\n",
        "from keras.utils import Sequence\n",
        "\n",
        "class My_Generator(Sequence):\n",
        "\n",
        "    def __init__(self, image_filenames, labels, batch_size):\n",
        "        self.image_filenames, self.labels = image_filenames, labels\n",
        "        self.batch_size = batch_size\n",
        "\n",
        "    def __len__(self):\n",
        "        return np.ceil(len(self.image_filenames) / float(self.batch_size))\n",
        "\n",
        "    def __getitem__(self, idx):\n",
        "        batch_x = self.image_filenames[idx * self.batch_size:(idx + 1) * self.batch_size]\n",
        "        batch_y = self.labels[idx * self.batch_size:(idx + 1) * self.batch_size]\n",
        "\n",
        "        return np.array([\n",
        "            resize(imread(file_name), (200, 200))\n",
        "               for file_name in batch_x]), np.array(batch_y)"
      ],
      "execution_count": null,
      "outputs": []
    },
    {
      "cell_type": "code",
      "metadata": {
        "trusted": true,
        "id": "M6TyIN8XlYMa"
      },
      "source": [
        "\n",
        "my_training_batch_generator = My_Generator(xtrain, ytrain, 64)\n",
        "my_validation_batch_generator = My_Generator(xtest, ytest, 64)\n",
        "\n",
        "model.fit_generator(\n",
        "        my_training_batch_generator,\n",
        "        steps_per_epoch=2000,\n",
        "        epochs=50,\n",
        "        validation_data=my_validation_batch_generator,\n",
        "        validation_steps=800)"
      ],
      "execution_count": null,
      "outputs": []
    },
    {
      "cell_type": "code",
      "metadata": {
        "trusted": true,
        "id": "2byvSNfLlYMf"
      },
      "source": [
        "from keras.preprocessing.image import ImageDataGenerator\n",
        "train_generator = train_datagen.flow_from_directory()"
      ],
      "execution_count": null,
      "outputs": []
    },
    {
      "cell_type": "code",
      "metadata": {
        "trusted": true,
        "id": "5niZer5WlYMm"
      },
      "source": [
        "xtrain, xtest, ytrain, ytest = train_test_split(data, labels, test_size=0.33, random_state=42)\n",
        "print('train IDs: ', len(xtrain))\n",
        "print('test IDs: ', len(xtest))\n",
        "\n",
        "params = {\n",
        "    'batch_size': 64,\n",
        "    'n_channels': 3,\n",
        "    'shuffle': True\n",
        "}\n",
        "\n",
        "training_generator = DataGenerator(xtrain, labels, **params)"
      ],
      "execution_count": null,
      "outputs": []
    },
    {
      "cell_type": "code",
      "metadata": {
        "trusted": true,
        "id": "JPbyoAqYlYMq"
      },
      "source": [
        "def generate_data(directory, batch_size):\n",
        "    \"\"\"Replaces Keras' native ImageDataGenerator.\"\"\"\n",
        "    i = 0\n",
        "    file_list = os.listdir(directory)\n",
        "    while True:\n",
        "        image_batch = []\n",
        "        for b in range(batch_size):\n",
        "            if i == len(file_list):\n",
        "                i = 0\n",
        "                random.shuffle(file_list)\n",
        "            sample = file_list[i]\n",
        "            i += 1\n",
        "            #image = cv2.resize(cv2.imread(sample[0]), INPUT_SHAPE)\n",
        "            image = cv2.imread(sample[0], INPUT_SHAPE)\n",
        "            image_batch.append((image.astype(float) - 128) / 128)\n",
        "\n",
        "        yield np.array(image_batch)"
      ],
      "execution_count": null,
      "outputs": []
    },
    {
      "cell_type": "code",
      "metadata": {
        "trusted": true,
        "id": "NlN1iXV5lYMx"
      },
      "source": [
        "model = Sequential()\n",
        "model.compile(optimizer = keras.optimizers.SGD(lr=0.001, momentum=0.9, nesterov=True))"
      ],
      "execution_count": null,
      "outputs": []
    },
    {
      "cell_type": "code",
      "metadata": {
        "trusted": true,
        "id": "VjeHqRBTlYM3"
      },
      "source": [
        "model.fit_generator(\n",
        "    generate_data('../input/', 64),\n",
        "    steps_per_epoch=len(os.listdir('../input/')) // 64)"
      ],
      "execution_count": null,
      "outputs": []
    },
    {
      "cell_type": "code",
      "metadata": {
        "trusted": true,
        "id": "tUwEi4pMlYM8"
      },
      "source": [
        "# get images from training set\n",
        "\n",
        "# resize the image to (256, 256)\n",
        "img_rows, img_cols = 512, 512\n",
        "\n",
        "listing = os.listdir(\"../input\") \n",
        "listing.remove(\"trainLabels.csv\")\n",
        "#listing.remove(['trainLabels.csv', 'sampleSubmission.csv', 'sample.zip'])\n",
        "\n",
        "immatrix = []\n",
        "imlabel = []\n",
        "\n",
        "for file in listing:\n",
        "    base = os.path.basename(\"../input/\" + file)\n",
        "    fileName = os.path.splitext(base)[0]\n",
        "    imlabel.append(trainLabels.loc[trainLabels.image==fileName, 'level'].values[0])\n",
        "    im = Image.open(\"../input/\" + file)\n",
        "    img = np.array(im.resize((img_rows,img_cols)))\n",
        "    \n",
        "    # convert to green channel only\n",
        "    img[:,:,[0,2]] = 0\n",
        "    immatrix.append(img)"
      ],
      "execution_count": null,
      "outputs": []
    },
    {
      "cell_type": "code",
      "metadata": {
        "trusted": true,
        "id": "v3IueqyVlYND"
      },
      "source": [
        "# get images from training set\n",
        "\n",
        "# resize the image to (256, 256)\n",
        "img_rows, img_cols = 512, 512\n",
        "\n",
        "listing = os.listdir(\"../input\") \n",
        "listing.remove(\"trainLabels.csv\")\n",
        "#listing.remove(['trainLabels.csv', 'sampleSubmission.csv', 'sample.zip'])\n",
        "\n",
        "immatrix = []\n",
        "imlabel = []\n",
        "\n",
        "for file in listing:\n",
        "    base = os.path.basename(\"../input/\" + file)\n",
        "    filename = os.path.splitext(base)[0]\n",
        "    imlabel.append(trainLabels.loc[trainLabels.image==filename, 'level'].values[0])\n",
        "    #im = Image.open(\"../input/\" + file)\n",
        "    #img = np.array(im.resize((img_rows,img_cols)))\n",
        "    image = load_img(\"../input/\"+file)\n",
        "    immatrix.append(img_to_array(image))\n",
        "    \n",
        "    # convert to green channel only\n",
        "    #img[:,:,[0,2]] = 0\n",
        "    #immatrix.append(img)"
      ],
      "execution_count": null,
      "outputs": []
    },
    {
      "cell_type": "code",
      "metadata": {
        "trusted": true,
        "id": "I0SGw0HIlYNH"
      },
      "source": [
        ""
      ],
      "execution_count": null,
      "outputs": []
    },
    {
      "cell_type": "code",
      "metadata": {
        "trusted": true,
        "id": "N--r5XzolYNM"
      },
      "source": [
        "#cv2.imread(\"../input/\"+listing[2])\n",
        "a=Image.open(\"../input/\" + file)\n",
        "np.array(a)"
      ],
      "execution_count": null,
      "outputs": []
    },
    {
      "cell_type": "code",
      "metadata": {
        "trusted": true,
        "id": "n2GgJ0EnlYNR"
      },
      "source": [
        "from keras.preprocessing.image import img_to_array, load_img\n",
        "import cv2\n",
        "immatrix"
      ],
      "execution_count": null,
      "outputs": []
    },
    {
      "cell_type": "code",
      "metadata": {
        "trusted": true,
        "id": "y369nbJUlYNU"
      },
      "source": [
        "im = Image.fromarray(immatrix[1],'RGB')\n",
        "print(\"level:\",imlabel[1])\n",
        "im"
      ],
      "execution_count": null,
      "outputs": []
    },
    {
      "cell_type": "code",
      "metadata": {
        "trusted": true,
        "id": "a4oNGRZFlYNZ"
      },
      "source": [
        "# flip horizontal\n",
        "\n",
        "img_gen = ImageDataGenerator()\n",
        "im2 = img_gen.apply_transform(immatrix[1], {'flip_horizontal':True})\n",
        "im22 = Image.fromarray(im2, 'RGB')\n",
        "im22"
      ],
      "execution_count": null,
      "outputs": []
    },
    {
      "cell_type": "code",
      "metadata": {
        "trusted": true,
        "_kg_hide-input": true,
        "id": "9BYSja7jlYNd"
      },
      "source": [
        "'''# image transformations\n",
        "import random\n",
        "\n",
        "# define transformation methods\n",
        "def horizontal_flip(image_array):\n",
        "    return image_array[:, ::-1]\n",
        "\n",
        "def vertical_flip(image_array):\n",
        "    return image_array[::-1,:]\n",
        "\n",
        "def random_transform(image_array):\n",
        "    if random.random() < 0.5:\n",
        "        return vertical_flip(image_array)\n",
        "    else:\n",
        "        return horizontal_flip(image_array)'''"
      ],
      "execution_count": null,
      "outputs": []
    },
    {
      "cell_type": "code",
      "metadata": {
        "trusted": true,
        "_kg_hide-input": true,
        "id": "PwUKn1mSlYNn"
      },
      "source": [
        "'''im = Image.fromarray(vertical_flip(immatrix[1]),'RGB')\n",
        "im'''"
      ],
      "execution_count": null,
      "outputs": []
    },
    {
      "cell_type": "code",
      "metadata": {
        "trusted": true,
        "_kg_hide-input": true,
        "id": "jZiEkxhdlYNq"
      },
      "source": [
        "'''length = len(immatrix)\n",
        "for i in range(length):\n",
        "    if random.random() < 0.1:\n",
        "        immatrix.append(random_transform(immatrix[i]))\n",
        "        imlabel.append(imlabel[i])\n",
        "        \n",
        "print(\"Size of image array before augmentation: \", length)\n",
        "print(\"Size fo image array after augmentation: \", len(immatrix))'''"
      ],
      "execution_count": null,
      "outputs": []
    },
    {
      "cell_type": "code",
      "metadata": {
        "trusted": true,
        "id": "bOIqPewWlYNt"
      },
      "source": [
        "# plot class distribution\n",
        "\n",
        "plt.hist(img_labels)\n",
        "plt.show()\n",
        "Counter(img_labels)"
      ],
      "execution_count": null,
      "outputs": []
    },
    {
      "cell_type": "code",
      "metadata": {
        "trusted": true,
        "id": "jEMeQaqUlYNv"
      },
      "source": [
        "img_matrix, img_labels = shuffle(img_matrix, img_labels, random_state=42)\n",
        "#train_data = [data,label]"
      ],
      "execution_count": null,
      "outputs": []
    },
    {
      "cell_type": "code",
      "metadata": {
        "trusted": true,
        "id": "qomX51v4lYN2"
      },
      "source": [
        "x_train, x_test, y_train, y_test = train_test_split(img_matrix, img_labels, test_size = 0.1, random_state = 42)\n",
        "\n",
        "print(np.array(x_train).shape)\n",
        "print(np.array(y_train).shape)\n",
        "\n",
        "print(np.array(x_test).shape)\n",
        "print(np.array(y_test).shape)"
      ],
      "execution_count": null,
      "outputs": []
    },
    {
      "cell_type": "code",
      "metadata": {
        "_kg_hide-output": true,
        "trusted": true,
        "id": "CSVEssR5lYN4"
      },
      "source": [
        "im = Image.fromarray(img_matrix[1],'RGB')\n",
        "print(\"level:\",img_labels[0])\n",
        "im"
      ],
      "execution_count": null,
      "outputs": []
    },
    {
      "cell_type": "code",
      "metadata": {
        "_kg_hide-output": true,
        "trusted": true,
        "id": "p4J6seUFlYN7"
      },
      "source": [
        "imgs = os.listdir(\"../input\") \n",
        "imgs.remove(\"trainLabels.csv\")\n",
        "img = load_img(\"../input/\" + imgs[1])\n",
        "img_array = img_to_array(img)\n",
        "img_array = cv2.resize(img_array, (512, 512))\n",
        "#img_array = np.array(img_array, dtype='float')/255.0\n",
        "im = Image.fromarray(img_array,'RGB')\n",
        "img"
      ],
      "execution_count": null,
      "outputs": []
    },
    {
      "cell_type": "code",
      "metadata": {
        "trusted": true,
        "id": "e39BGOf9lYN9"
      },
      "source": [
        ""
      ],
      "execution_count": null,
      "outputs": []
    },
    {
      "cell_type": "code",
      "metadata": {
        "trusted": true,
        "id": "29UiKVbNlYOC"
      },
      "source": [
        "# shuffle dataset\n",
        "\n",
        "data,label = shuffle(immatrix, imlabel, random_state=42)\n",
        "train_data = [data,label]"
      ],
      "execution_count": null,
      "outputs": []
    },
    {
      "cell_type": "code",
      "metadata": {
        "trusted": true,
        "id": "TAsP8SmSlYOF"
      },
      "source": [
        "# count per classes\n",
        "Counter(label)"
      ],
      "execution_count": null,
      "outputs": []
    },
    {
      "cell_type": "code",
      "metadata": {
        "trusted": true,
        "_kg_hide-output": true,
        "id": "91eO3z37lYON"
      },
      "source": [
        "# plot class distribution\n",
        "\n",
        "plt.hist(label)\n",
        "plt.show()\n",
        "Counter(label)"
      ],
      "execution_count": null,
      "outputs": []
    },
    {
      "cell_type": "code",
      "metadata": {
        "trusted": true,
        "id": "0BO4098plYOP"
      },
      "source": [
        "# split into training set and test set\n",
        "\n",
        "x_train, x_test, y_train, y_test = train_test_split(train_data[0], train_data[1], test_size = 0.1, random_state = 42)\n",
        "\n",
        "print(np.array(x_train).shape)\n",
        "print(np.array(y_train).shape)\n",
        "\n",
        "print(np.array(x_test).shape)\n",
        "print(np.array(y_test).shape)\n",
        "#https://www.kaggle.com/kevinyang372/diabetic-retinopathy-detection-cnn"
      ],
      "execution_count": null,
      "outputs": []
    },
    {
      "cell_type": "code",
      "metadata": {
        "_kg_hide-input": true,
        "trusted": true,
        "id": "Dzc2GmhllYOW"
      },
      "source": [
        "'''# prepare data augmentation configuration\n",
        "train_datagen = ImageDataGenerator(\n",
        "    rescale=1. / 255,\n",
        "    shear_range=0.2,\n",
        "    zoom_range=0.2,\n",
        "    horizontal_flip=True)\n",
        "\n",
        "datagen = ImageDataGenerator(\n",
        "        rotation_range=40,\n",
        "        width_shift_range=0.2,\n",
        "        height_shift_range=0.2,\n",
        "        shear_range=0.2,\n",
        "        zoom_range=0.2,\n",
        "        horizontal_flip=True,\n",
        "        fill_mode='nearest')\n",
        "\n",
        "valid_generator = valid_datagen.flow_from_directory(\n",
        "    directory=r\"./valid/\",\n",
        "    target_size=(224, 224),\n",
        "    color_mode=\"rgb\",\n",
        "    batch_size=32,\n",
        "    class_mode=\"categorical\",\n",
        "    shuffle=True,\n",
        "    seed=42\n",
        ")'''"
      ],
      "execution_count": null,
      "outputs": []
    },
    {
      "cell_type": "code",
      "metadata": {
        "trusted": true,
        "id": "U68241uRlYOY"
      },
      "source": [
        "# convert labels to binary class matrix\n",
        "y_train = np_utils.to_categorical(np.array(y_train), 5)\n",
        "y_test = np_utils.to_categorical(np.array(y_test), 5)\n",
        "\n",
        "x_train = np.array(x_train).astype(\"float32\")/255.0\n",
        "x_test = np.array(x_test).astype(\"float32\")/255.0\n",
        "\n",
        "print(np.array(y_train).shape)"
      ],
      "execution_count": null,
      "outputs": []
    },
    {
      "cell_type": "code",
      "metadata": {
        "trusted": true,
        "id": "R6u8kbmylYOc"
      },
      "source": [
        "y_train"
      ],
      "execution_count": null,
      "outputs": []
    },
    {
      "cell_type": "code",
      "metadata": {
        "trusted": true,
        "id": "YZDA41L8lYOe"
      },
      "source": [
        "from sklearn.utils import class_weight\n",
        "class_weights = class_weight.compute_class_weight('balanced', \n",
        "                                                 np.unique(y_train),\n",
        "                                                 y_train)\n",
        "class_weights\n"
      ],
      "execution_count": null,
      "outputs": []
    },
    {
      "cell_type": "code",
      "metadata": {
        "trusted": true,
        "id": "0G7F8hZ3lYOi"
      },
      "source": [
        "class_weights = {0:0.24, 1:1.21, 2:6.42, 3:3.05, 4:6.92}"
      ],
      "execution_count": null,
      "outputs": []
    },
    {
      "cell_type": "code",
      "metadata": {
        "trusted": true,
        "id": "97lETZtQlYOn"
      },
      "source": [
        "# build cnn\n",
        "model = Sequential()\n",
        "\n",
        "model.add(Conv2D(16, 11, padding='same', activation='relu', input_shape=x_train[0].shape, use_bias=False))\n",
        "#model.add(Conv2D(16, 11, activation='relu'))\n",
        "model.add(MaxPooling2D())\n",
        "#model.add(Dropout(0.25))\n",
        "\n",
        "model.add(Conv2D(32, 9, padding='same', activation='relu', use_bias=False))\n",
        "#model.add(Conv2D(32, (3, 3), activation='relu'))\n",
        "model.add(MaxPooling2D())\n",
        "#model.add(Dropout(0.25))\n",
        "\n",
        "model.add(Conv2D(64, 7, padding='same', activation='relu', use_bias=False))\n",
        "#model.add(Conv2D(64, (3, 3), activation='relu'))\n",
        "model.add(MaxPooling2D())\n",
        "#model.add(Dropout(0.25))\n",
        "\n",
        "#model.add(Conv2D(128, 3, padding='same', activation='relu', use_bias=False))\n",
        "#model.add(MaxPooling2D())\n",
        "#model.add(Dropout(0.25))\n",
        "\n",
        "#model.add(Conv2D(256, 3, padding='same', activation='relu', use_bias=False))\n",
        "#model.add(MaxPooling2D())\n",
        "\n",
        "#model.add(Conv2D(512, 3, padding='same', activation='relu', use_bias=False))\n",
        "#model.add(MaxPooling2D())\n",
        "\n",
        "#model.add(Dropout(0.25))\n",
        "model.add(Flatten())\n",
        "model.add(Dense(128, activation='sigmoid', use_bias=False))\n",
        "model.add(Dropout(0.2))\n",
        "model.add(Dense(activation='softmax', units=5))\n",
        "\n",
        "model.compile(loss='categorical_crossentropy', optimizer = keras.optimizers.SGD(lr=0.001, momentum=0.9, nesterov=True), metrics=[\"accuracy\"])"
      ],
      "execution_count": null,
      "outputs": []
    },
    {
      "cell_type": "code",
      "metadata": {
        "trusted": true,
        "id": "rKQnb_xtlYOq"
      },
      "source": [
        "print(model.summary())"
      ],
      "execution_count": null,
      "outputs": []
    },
    {
      "cell_type": "code",
      "metadata": {
        "trusted": true,
        "id": "CneaYZFblYOs"
      },
      "source": [
        "# add some visualization\n",
        "from IPython.display import SVG\n",
        "from keras.utils.vis_utils import model_to_dot\n",
        "SVG(model_to_dot(model).create(prog='dot', format='svg'))"
      ],
      "execution_count": null,
      "outputs": []
    },
    {
      "cell_type": "code",
      "metadata": {
        "trusted": true,
        "id": "QwfXT-N7lYOu"
      },
      "source": [
        "model.fit(x_train, y_train, batch_size = 64, epochs = 25, shuffle=True, verbose=2, class_weight=class_weights)"
      ],
      "execution_count": null,
      "outputs": []
    },
    {
      "cell_type": "code",
      "metadata": {
        "trusted": true,
        "id": "zUordnlRlYOx"
      },
      "source": [
        "score = model.evaluate(x_test, y_test, verbose=0)\n",
        "print(score)"
      ],
      "execution_count": null,
      "outputs": []
    }
  ]
}